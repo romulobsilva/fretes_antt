{
 "cells": [
  {
   "cell_type": "markdown",
   "metadata": {},
   "source": [
    "### 1.0 IMPORTS"
   ]
  },
  {
   "cell_type": "code",
   "execution_count": 12,
   "metadata": {},
   "outputs": [],
   "source": [
    "import os\n",
    "import datetime\n",
    "import pickle\n",
    "\n",
    "import pandas as pd\n",
    "\n",
    "pd.options.display.max_columns = None"
   ]
  },
  {
   "cell_type": "markdown",
   "metadata": {},
   "source": [
    "### 2.0 CONFIGURATIONS"
   ]
  },
  {
   "cell_type": "code",
   "execution_count": 13,
   "metadata": {},
   "outputs": [],
   "source": [
    "path_raw = './data/'\n",
    "path_out='./outputs/'\n",
    "path_out_images='./images/'\n",
    "\n",
    "model_name=\"pepsico_frete_ramdom_forest.sav\"\n",
    "name_out=f'RealCaixaPred_{datetime.datetime.now().strftime(\"%Y-%m-%d %H_%M_%S\")}.xlsx'\n",
    "\n",
    "features= [\n",
    "    'Planta', 'Movimentação',\n",
    "    'UF Destino', 'TIPO',\n",
    "]\n",
    "eng_classes = [f\"{feature}_Class\" for feature in features]"
   ]
  },
  {
   "cell_type": "markdown",
   "metadata": {},
   "source": [
    "### 3.0 LOADING MODEL"
   ]
  },
  {
   "cell_type": "code",
   "execution_count": 14,
   "metadata": {},
   "outputs": [],
   "source": [
    "model = pickle.load(open(os.path.join(path_out,model_name), 'rb'))"
   ]
  },
  {
   "cell_type": "markdown",
   "metadata": {},
   "source": [
    "### 4.0 LOADING DATASETS"
   ]
  },
  {
   "cell_type": "code",
   "execution_count": 15,
   "metadata": {},
   "outputs": [],
   "source": [
    "\"\"\"\n",
    "The input must be formated as the the template file:\n",
    "\n",
    "Planta  UF Destino  Movimentação    TIPO    KM Ajustado\n",
    "76956   BA  TRANSFERENCIA   FOODS   580,57\n",
    "76956   MG  VENDAS  SALTY   1080,45\n",
    "\n",
    "{\n",
    "    Planta:Str,\n",
    "    UF Destino:Str,\n",
    "    Movimentação:Str,\n",
    "    TIPO:Str,\n",
    "    KM Ajustado:Float,\n",
    "}  \n",
    "\n",
    "All the possibilities for the categorical features are listed in the files:\n",
    "\n",
    "Planta_categorical.csv\n",
    "Movimentação_categorical.csv\n",
    "UF Destino_categorical.csv\n",
    "TIPO_categorical.csv\n",
    "\n",
    "If the user wants to predict the freight cost to a new Source, we recomend to choose an existing source as a proxy to obtain the predictions. \n",
    "The model should be retrained to include new features, or include new sources with data avaible.\n",
    "\n",
    "\"\"\"\n",
    "# INPUT FILE\n",
    "df_novas_rotas=pd.read_excel(os.path.join(path_raw,'Pepsico_Exemplo_Input_Modelo_Preditivo.xlsx'), sheet_name='Planilha1',dtype={'Planta':'str'})\n",
    "\n",
    "df_plantas=pd.read_csv(os.path.join(path_out,'Planta_categorical.csv'))\n",
    "df_movimentacao=pd.read_csv(os.path.join(path_out,'Movimentação_categorical.csv'))\n",
    "df_uf=pd.read_csv(os.path.join(path_out,'UF Destino_categorical.csv'))\n",
    "df_tipo=pd.read_csv(os.path.join(path_out,'TIPO_categorical.csv'))"
   ]
  },
  {
   "cell_type": "markdown",
   "metadata": {},
   "source": [
    "### 5.0 ETL"
   ]
  },
  {
   "cell_type": "code",
   "execution_count": 16,
   "metadata": {},
   "outputs": [],
   "source": [
    "df_rotas_model = df_novas_rotas.copy()\n",
    "\n",
    "# Merging categorical classification\n",
    "\n",
    "df_rotas_model = df_rotas_model.merge(\n",
    "    df_plantas,\n",
    "    on=['Planta'],\n",
    "    how='left'\n",
    ")\n",
    "\n",
    "df_rotas_model = df_rotas_model.merge(\n",
    "    df_uf,\n",
    "    on=['UF Destino'],\n",
    "    how='left'\n",
    ")\n",
    "\n",
    "df_rotas_model = df_rotas_model.merge(\n",
    "    df_movimentacao,\n",
    "    on=['Movimentação'],\n",
    "    how='left'\n",
    ")\n",
    "\n",
    "df_rotas_model = df_rotas_model.merge(\n",
    "    df_tipo,\n",
    "    on=['TIPO'],\n",
    "    how='left'\n",
    ")\n",
    "\n",
    "df_rotas_model['VENDAS'] = df_rotas_model['Movimentação'] == 'VENDAS'\n",
    "df_rotas_model['TRANSFERENCIA'] = df_rotas_model['Movimentação'] == 'TRANSFERENCIA'\n",
    "\n",
    "\n",
    "\n"
   ]
  },
  {
   "cell_type": "markdown",
   "metadata": {},
   "source": [
    "### 6.0 PREDICTING"
   ]
  },
  {
   "cell_type": "code",
   "execution_count": 17,
   "metadata": {},
   "outputs": [],
   "source": [
    "X_novas_rotas = df_rotas_model[['KM Ajustado','VENDAS','TRANSFERENCIA']+eng_classes]\n",
    "\n",
    "y_novas_rotas= model.predict(X_novas_rotas)\n",
    "\n",
    "df_rotas_model['RealCaixaPred'] = y_novas_rotas"
   ]
  },
  {
   "cell_type": "code",
   "execution_count": 18,
   "metadata": {},
   "outputs": [
    {
     "data": {
      "text/html": [
       "<div>\n",
       "<style scoped>\n",
       "    .dataframe tbody tr th:only-of-type {\n",
       "        vertical-align: middle;\n",
       "    }\n",
       "\n",
       "    .dataframe tbody tr th {\n",
       "        vertical-align: top;\n",
       "    }\n",
       "\n",
       "    .dataframe thead th {\n",
       "        text-align: right;\n",
       "    }\n",
       "</style>\n",
       "<table border=\"1\" class=\"dataframe\">\n",
       "  <thead>\n",
       "    <tr style=\"text-align: right;\">\n",
       "      <th></th>\n",
       "      <th>Planta</th>\n",
       "      <th>UF Destino</th>\n",
       "      <th>Movimentação</th>\n",
       "      <th>TIPO</th>\n",
       "      <th>KM Ajustado</th>\n",
       "      <th>RealCaixaPred</th>\n",
       "    </tr>\n",
       "  </thead>\n",
       "  <tbody>\n",
       "    <tr>\n",
       "      <th>0</th>\n",
       "      <td>7962</td>\n",
       "      <td>SP</td>\n",
       "      <td>TRANSFERENCIA</td>\n",
       "      <td>SALTY</td>\n",
       "      <td>722.639</td>\n",
       "      <td>4.763055</td>\n",
       "    </tr>\n",
       "    <tr>\n",
       "      <th>1</th>\n",
       "      <td>7962</td>\n",
       "      <td>SP</td>\n",
       "      <td>TRANSFERENCIA</td>\n",
       "      <td>FOODS</td>\n",
       "      <td>722.639</td>\n",
       "      <td>1.334938</td>\n",
       "    </tr>\n",
       "    <tr>\n",
       "      <th>2</th>\n",
       "      <td>7956</td>\n",
       "      <td>MG</td>\n",
       "      <td>TRANSFERENCIA</td>\n",
       "      <td>SALTY</td>\n",
       "      <td>1000.000</td>\n",
       "      <td>4.682317</td>\n",
       "    </tr>\n",
       "    <tr>\n",
       "      <th>3</th>\n",
       "      <td>7956</td>\n",
       "      <td>BA</td>\n",
       "      <td>VENDAS</td>\n",
       "      <td>FOODS</td>\n",
       "      <td>693.865</td>\n",
       "      <td>7.011714</td>\n",
       "    </tr>\n",
       "    <tr>\n",
       "      <th>4</th>\n",
       "      <td>7954</td>\n",
       "      <td>SP</td>\n",
       "      <td>VENDAS</td>\n",
       "      <td>FOODS</td>\n",
       "      <td>330.000</td>\n",
       "      <td>5.810479</td>\n",
       "    </tr>\n",
       "    <tr>\n",
       "      <th>5</th>\n",
       "      <td>7954</td>\n",
       "      <td>MT</td>\n",
       "      <td>VENDAS</td>\n",
       "      <td>SALTY</td>\n",
       "      <td>780.000</td>\n",
       "      <td>4.052796</td>\n",
       "    </tr>\n",
       "  </tbody>\n",
       "</table>\n",
       "</div>"
      ],
      "text/plain": [
       "  Planta UF Destino   Movimentação   TIPO  KM Ajustado  RealCaixaPred\n",
       "0   7962         SP  TRANSFERENCIA  SALTY      722.639       4.763055\n",
       "1   7962         SP  TRANSFERENCIA  FOODS      722.639       1.334938\n",
       "2   7956         MG  TRANSFERENCIA  SALTY     1000.000       4.682317\n",
       "3   7956         BA         VENDAS  FOODS      693.865       7.011714\n",
       "4   7954         SP         VENDAS  FOODS      330.000       5.810479\n",
       "5   7954         MT         VENDAS  SALTY      780.000       4.052796"
      ]
     },
     "execution_count": 18,
     "metadata": {},
     "output_type": "execute_result"
    }
   ],
   "source": [
    "cols_orig=df_novas_rotas.columns.to_list()\n",
    "\n",
    "df_rotas_model_out=df_rotas_model[cols_orig+['RealCaixaPred']].copy()\n",
    "\n",
    "df_rotas_model_out.to_excel(os.path.join(path_out,name_out),index=False)\n",
    "\n",
    "df_rotas_model_out"
   ]
  }
 ],
 "metadata": {
  "kernelspec": {
   "display_name": ".brain",
   "language": "python",
   "name": "python3"
  },
  "language_info": {
   "codemirror_mode": {
    "name": "ipython",
    "version": 3
   },
   "file_extension": ".py",
   "mimetype": "text/x-python",
   "name": "python",
   "nbconvert_exporter": "python",
   "pygments_lexer": "ipython3",
   "version": "3.10.12"
  }
 },
 "nbformat": 4,
 "nbformat_minor": 2
}
